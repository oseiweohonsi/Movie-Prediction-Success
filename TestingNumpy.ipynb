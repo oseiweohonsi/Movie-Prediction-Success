{
 "cells": [
  {
   "cell_type": "code",
   "execution_count": 9,
   "metadata": {},
   "outputs": [
    {
     "data": {
      "text/plain": [
       "array([[False, False, False],\n",
       "       [ True, False, False]])"
      ]
     },
     "execution_count": 9,
     "metadata": {},
     "output_type": "execute_result"
    }
   ],
   "source": [
    "import numpy as np\n",
    "arr = np.array([[1,2,3], [4,5,6]])\n",
    "arr2 = np.array([[1,3,5], [2,6,8]])\n",
    "arr > arr2\n"
   ]
  },
  {
   "cell_type": "code",
   "execution_count": 10,
   "metadata": {},
   "outputs": [
    {
     "name": "stdout",
     "output_type": "stream",
     "text": [
      "[0 1 2 3 4 5 6 7 8 9]\n",
      "[5 6 7]\n",
      "[12 12 12]\n",
      "[ 0  1  2  3  4 12 12 12  8  9]\n",
      "New arr\n",
      "[5 6 7]\n",
      "[12 12 12]\n",
      "[0 1 2 3 4 5 6 7 8 9]\n"
     ]
    }
   ],
   "source": [
    "arr = np.arange(10)\n",
    "print(arr)\n",
    "# slice array\n",
    "arr_slice = arr[5:8]\n",
    "print(arr_slice)\n",
    "arr_slice[:] = 12\n",
    "print(arr_slice)\n",
    "print(arr)\n",
    "\n",
    "# array slicing without copying\n",
    "print(\"New arr\")\n",
    "newarr =  np.arange(10)\n",
    "newarr_slice = newarr[5:8].copy()\n",
    "print(newarr_slice)\n",
    "newarr_slice[:] = 12\n",
    "print(newarr_slice)\n",
    "print(newarr)\n",
    "\n"
   ]
  },
  {
   "cell_type": "code",
   "execution_count": 11,
   "metadata": {},
   "outputs": [
    {
     "name": "stdout",
     "output_type": "stream",
     "text": [
      "3\n"
     ]
    }
   ],
   "source": [
    "# working with 2 ndarrays\n",
    "arr = np.array([[1,2,3], [4,5,6], [7,8,9]])\n",
    "print(arr[0][2])"
   ]
  },
  {
   "cell_type": "code",
   "execution_count": 12,
   "metadata": {},
   "outputs": [
    {
     "name": "stdout",
     "output_type": "stream",
     "text": [
      "1\n"
     ]
    }
   ],
   "source": [
    "# creating 3 ndarrays\n",
    "arr3d= np.array([[[1,2,3], [1,2,3]], [[4,5,6], [7,8,9]]])\n",
    "arr3d\n",
    "newarr = arr3d[0]\n",
    "newnewarr = newarr[0]\n",
    "print(newnewarr[0])"
   ]
  },
  {
   "cell_type": "code",
   "execution_count": 25,
   "metadata": {},
   "outputs": [],
   "source": [
    "# testing arrays with names\n",
    "names = np.array(['zion', 'daisy', 'williams', 'linda'])\n",
    "data = np.random.randn(4, 4)\n",
    "\n"
   ]
  },
  {
   "cell_type": "code",
   "execution_count": 29,
   "metadata": {},
   "outputs": [
    {
     "name": "stdout",
     "output_type": "stream",
     "text": [
      "[[ 7.          7.          7.          7.        ]\n",
      " [ 1.54277964  0.94760819  0.48401762  1.13221959]\n",
      " [ 0.13617118  0.24794335 -1.00965859 -0.1823322 ]\n",
      " [-0.54907946  1.47966795 -1.11225585 -0.9877515 ]]\n"
     ]
    },
    {
     "data": {
      "text/plain": [
       "array([[7., 7., 7., 7.]])"
      ]
     },
     "execution_count": 29,
     "metadata": {},
     "output_type": "execute_result"
    }
   ],
   "source": [
    "names == 'zion'\n",
    "print(data)\n",
    "data[names=='zion'] = 7\n",
    "data[names == 'zion']\n"
   ]
  },
  {
   "cell_type": "code",
   "execution_count": 30,
   "metadata": {},
   "outputs": [
    {
     "data": {
      "text/plain": [
       "array([[5.08859412e-310, 0.00000000e+000, 0.00000000e+000,\n",
       "        0.00000000e+000],\n",
       "       [6.55378400e-310, 5.02034658e+175, 3.43631247e+179,\n",
       "        3.77025433e-061],\n",
       "       [9.33348171e+164, 2.22935390e+180, 8.23825551e-043,\n",
       "        6.47073340e-144],\n",
       "       [3.59751658e+252, 1.46901661e+179, 8.37404147e+242,\n",
       "        2.59027926e-144],\n",
       "       [3.80985069e+180, 5.13112925e+199, 9.29610348e+199,\n",
       "        1.35617292e+248],\n",
       "       [5.12944426e-072, 5.59151431e-091, 8.61691948e-043,\n",
       "        2.34394419e-056],\n",
       "       [1.10507077e-046, 5.28555805e+180, 2.89755778e-057,\n",
       "        6.97936820e-076],\n",
       "       [4.66499551e-086, 3.35609385e-143, 9.30350598e+199,\n",
       "        4.24941018e-086]])"
      ]
     },
     "execution_count": 30,
     "metadata": {},
     "output_type": "execute_result"
    }
   ],
   "source": [
    "# working on fancy indexing\n",
    "arr = np.empty((8, 4))\n",
    "arr"
   ]
  }
 ],
 "metadata": {
  "kernelspec": {
   "display_name": "Python 3",
   "language": "python",
   "name": "python3"
  },
  "language_info": {
   "codemirror_mode": {
    "name": "ipython",
    "version": 3
   },
   "file_extension": ".py",
   "mimetype": "text/x-python",
   "name": "python",
   "nbconvert_exporter": "python",
   "pygments_lexer": "ipython3",
   "version": "3.10.12"
  }
 },
 "nbformat": 4,
 "nbformat_minor": 2
}
